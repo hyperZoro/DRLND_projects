{
 "cells": [
  {
   "cell_type": "markdown",
   "metadata": {},
   "source": [
    "# Continuous Control\n",
    "\n",
    "---\n",
    "\n",
    "In this notebook, I present my DDPG solution to the second project, Continuous Control, of the [Deep Reinforcement Learning Nanodegree](https://www.udacity.com/course/deep-reinforcement-learning-nanodegree--nd893) program.\n",
    "\n",
    "\n",
    "## About the enviroment and the agents\n",
    "The enviroment contain 20 independent agents, each control a double jointed arm. The goal of the project is to train the agents to control the arms to track the target locations. \n",
    "\n",
    "### The reward dynamic and the goal of the agents\n",
    "A reward of +0.1 is provided for each step that the agent's hand is in the goal location. The goal is to maintain its positiion at the target location to maximise total reward.\n",
    "\n",
    "### State space\n",
    "The state space for each agent is described discretely by 33 state values (a 1D-vector of size 33), correspondingto position, rotation, velocity, and angular velocities of the arm(s).\n",
    "\n",
    "### Action space\n",
    "4 continuous variables (a 1D-vector of size 4) describe the action space for each agent. The values correspond to torque applicable to the two joints. Every entry in the action vector is a number between -1 and 1. \n",
    "\n",
    "### Termination of the episode\n",
    "The task is episodic, it is terminated at the maximum number of time step (1001), when the accumuated reward is counted as the final reward. \n",
    "\n",
    "### Success criteria\n",
    "The sucess criteria is achieving an average score of +30 over 100 consecutive episodes, across all the 20 agents.\n",
    "\n",
    "## The agent (the learning algorithm)\n",
    "_dqn_agent.py_ defines the Agent, it learns with the Deep Deterministic Policy Gradient (DDPG) method, with Experience Replay and delayed Target Network update techniques.\n",
    "\n",
    "### About DDPG\n",
    "This implementation uses the DDPG method. I understand DDPG as an extension of Deep Q-Network learning, applicable to discrete action spaces, to continuous action spaces. DDPG is also introduced as one of the Actor-Critic method as it uses the critic network (value funciton) to aid training of the action network. The Actor network tries to find the policy in the continuous space; while the Critic network is used to estimate the Q value (the max expected reward) with respect to the continuous actions. There is a very good explanation of DDPG from [this page](https://github.com/udacity/deep-reinforcement-learning#dependencies).\n",
    "\n",
    "### About Experience Replay\n",
    "In Deep Q-Learning, Experience Replay is commonly used to break the correlation between consequent states and actions. It is about caching past experiences (action, reward and next state sets), and then sampling them randomly to feed the learning algorithm. In this particular implementation, the experiences from 20 independent agents are stacked and randomised before fed back to the learning of all 20 agents.\n",
    "\n",
    "### About Delayed Target Network\n",
    "In Deep Q-Learning, Double Q-Network techniques are commonly used, where the target network is updated with delay to stablise Q value estimation. A soft update algorithm is used, where the target network weights are updated with a weighted average of the local network weights and the old target network weights.\n",
    "\n",
    "### Loss function and optimisation\n",
    "The mean square error loss is used in conjunction with the Adam optimiser.\n",
    "\n",
    "### Noise add-on\n",
    "An stochastic zero mean mean reverting random variable (OU Noise) is added to the policy generated actions to exploit un-explored territories (then clipped to between -1 and +1).\n",
    "\n",
    "## About the models (the neural networks)\n",
    "_ddpg_model.py_ is written in PyTorch, it defines the Neural Networks. There are 2 different networks - one for the Actor and the other for the Critic.\n",
    "\n",
    "The Actor network is a deep network using 2 fully connected hidden layers (512 nodes each by default, but configurable through parameters _fc1_units_ and _fc2_units_ at initialisation stage) with ReLU activations. The input is the enviroment state (in this case a 1D-vector of size 33), while the output is the action (in this case a 1D-vector of size 4), with a tanh transform function.\n",
    "\n",
    "The Critic network is a deep network using 2 fully connected hidden layers. The input is the enviroment state (in this case a 1D-vector of size 33). The first hidden layer is of size defined by fcs1_units+33 (fcs1_units defaults to 512). The second layer is of size defined by fc2_units (defaults to 512). Both layers have Leaky ReLU activation. The final outcome is a scalar (dimension 1), without any transformation. This represents the Q value corresponding to the continuous actions.\n",
    "\n",
    "## Hyperparameters\n",
    "The following are the hyperparameters used\n",
    "\n",
    "- _BUFFER_SIZE_ defines the replay buffer size, default to 1e5\n",
    "- _BATCH_SIZE_ defines minibatch size in learning, defaults to 64\n",
    "- _GAMMA_ defines the discount factor in expected reward calculation, defauls to 0.99\n",
    "- _TAU_ defines the weights for soft update of target parameters, defaults to 1e-3\n",
    "- _LR_ACTOR_ defines learning rate of the actor, defaults to 1e-4\n",
    "- _LR_CRITIC_ defines learning rate of the critic, defaults to 3e-4\n",
    "- _WEIGHT_DECAY_ defines L2 weight decay, defaults to 0\n",
    "- _LEARN_FREQ_ defines the frequency of learning, defaults to 10\n",
    "- _LEARN_NUM_ defines the number of times learning is repeated per experience sample set, defaults to 20\n",
    "\n",
    "### Saving the trained models\n",
    "The trained parameters are saved in the files _checkpoint_actor_ddpg.pth_ and _checkpoint_actor_ddpg.pth_ for the Actor and Critic networks, respectively. Seperately, _checkpoint_actor_ddpg_gpu.pth_ and _checkpoint_actor_ddpg_gpu.pth_ store a set of model parameters that are obtained by training with the Udacity workspace GPU facility. The results and scores obtained by the GPU are very similar to those in the results, but understandably much quicker."
   ]
  },
  {
   "cell_type": "markdown",
   "metadata": {},
   "source": [
    "**Use the code below to replicate the solution.**\n",
    "### Start the Environment\n",
    "Set the Unity Enviroment path (Windows x64 executable)"
   ]
  },
  {
   "cell_type": "code",
   "execution_count": 1,
   "metadata": {},
   "outputs": [
    {
     "name": "stderr",
     "output_type": "stream",
     "text": [
      "INFO:unityagents:\n",
      "'Academy' started successfully!\n",
      "Unity Academy name: Academy\n",
      "        Number of Brains: 1\n",
      "        Number of External Brains : 1\n",
      "        Lesson number : 0\n",
      "        Reset Parameters :\n",
      "\t\tgoal_speed -> 1.0\n",
      "\t\tgoal_size -> 5.0\n",
      "Unity brain name: ReacherBrain\n",
      "        Number of Visual Observations (per agent): 0\n",
      "        Vector Observation space type: continuous\n",
      "        Vector Observation space size (per agent): 33\n",
      "        Number of stacked Vector Observation: 1\n",
      "        Vector Action space type: continuous\n",
      "        Vector Action space size (per agent): 4\n",
      "        Vector Action descriptions: , , , \n"
     ]
    }
   ],
   "source": [
    "from unityagents import UnityEnvironment\n",
    "import numpy as np\n",
    "env = UnityEnvironment(file_name=r'.\\Reacher_Windows_x86_64_20\\Reacher.exe')"
   ]
  },
  {
   "cell_type": "markdown",
   "metadata": {},
   "source": [
    "### Set the environments **_brain_**."
   ]
  },
  {
   "cell_type": "code",
   "execution_count": 2,
   "metadata": {},
   "outputs": [],
   "source": [
    "# get the default brain\n",
    "brain_name = env.brain_names[0]\n",
    "brain = env.brains[brain_name]"
   ]
  },
  {
   "cell_type": "markdown",
   "metadata": {},
   "source": [
    "### Examine the State and Action Spaces\n",
    "The observation space consists of `33` variables corresponding to position, rotation, velocity, and angular velocities of the arm.  Each action is a vector with four numbers, corresponding to torque applicable to two joints.  Every entry in the action vector must be a number between `-1` and `1`."
   ]
  },
  {
   "cell_type": "code",
   "execution_count": 3,
   "metadata": {},
   "outputs": [
    {
     "name": "stdout",
     "output_type": "stream",
     "text": [
      "Number of agents: 20\n",
      "Size of each action: 4\n",
      "There are 20 agents. Each observes a state with length: 33\n",
      "The state for the first agent looks like: [ 0.00000000e+00 -4.00000000e+00  0.00000000e+00  1.00000000e+00\n",
      " -0.00000000e+00 -0.00000000e+00 -4.37113883e-08  0.00000000e+00\n",
      "  0.00000000e+00  0.00000000e+00  0.00000000e+00  0.00000000e+00\n",
      "  0.00000000e+00  0.00000000e+00 -1.00000000e+01  0.00000000e+00\n",
      "  1.00000000e+00 -0.00000000e+00 -0.00000000e+00 -4.37113883e-08\n",
      "  0.00000000e+00  0.00000000e+00  0.00000000e+00  0.00000000e+00\n",
      "  0.00000000e+00  0.00000000e+00  5.75471878e+00 -1.00000000e+00\n",
      "  5.55726624e+00  0.00000000e+00  1.00000000e+00  0.00000000e+00\n",
      " -1.68164849e-01]\n"
     ]
    }
   ],
   "source": [
    "# reset the environment\n",
    "env_info = env.reset(train_mode=True)[brain_name]\n",
    "\n",
    "# number of agents\n",
    "num_agents = len(env_info.agents)\n",
    "print('Number of agents:', num_agents)\n",
    "\n",
    "# size of each action\n",
    "action_size = brain.vector_action_space_size\n",
    "print('Size of each action:', action_size)\n",
    "\n",
    "# examine the state space \n",
    "states = env_info.vector_observations\n",
    "state_size = states.shape[1]\n",
    "print('There are {} agents. Each observes a state with length: {}'.format(states.shape[0], state_size))\n",
    "print('The state for the first agent looks like:', states[0])"
   ]
  },
  {
   "cell_type": "markdown",
   "metadata": {},
   "source": [
    "### Training the agent"
   ]
  },
  {
   "cell_type": "code",
   "execution_count": 4,
   "metadata": {},
   "outputs": [
    {
     "name": "stdout",
     "output_type": "stream",
     "text": [
      "Device used:  cpu\n"
     ]
    }
   ],
   "source": [
    "from collections import deque\n",
    "import matplotlib.pyplot as plt\n",
    "from ddpg_agent import Agent\n",
    "import torch\n",
    "import time\n",
    "\n",
    "%matplotlib inline\n",
    "\n",
    "agent = Agent(state_size, action_size, random_seed=1)"
   ]
  },
  {
   "cell_type": "code",
   "execution_count": 5,
   "metadata": {
    "scrolled": false
   },
   "outputs": [
    {
     "name": "stdout",
     "output_type": "stream",
     "text": [
      "Agents Mean Score in Episode 005: 1.17, \tAgents Mean Score over last 100 episodes: 0.59 (time per eps:55.4 secs)\n",
      "Agents Mean Score in Episode 010: 2.62, \tAgents Mean Score over last 100 episodes: 1.13 (time per eps:56.3 secs)\n",
      "Agents Mean Score in Episode 015: 5.20, \tAgents Mean Score over last 100 episodes: 2.30 (time per eps:55.4 secs)\n",
      "Agents Mean Score in Episode 020: 8.58, \tAgents Mean Score over last 100 episodes: 3.47 (time per eps:56.1 secs)\n",
      "Agents Mean Score in Episode 025: 13.17, \tAgents Mean Score over last 100 episodes: 4.94 (time per eps:58.3 secs)\n",
      "Agents Mean Score in Episode 030: 19.58, \tAgents Mean Score over last 100 episodes: 7.00 (time per eps:57.6 secs)\n",
      "Agents Mean Score in Episode 035: 29.16, \tAgents Mean Score over last 100 episodes: 9.86 (time per eps:59.6 secs)\n",
      "Agents Mean Score in Episode 040: 32.64, \tAgents Mean Score over last 100 episodes: 12.53 (time per eps:60.7 secs)\n",
      "Agents Mean Score in Episode 045: 35.19, \tAgents Mean Score over last 100 episodes: 14.86 (time per eps:61.9 secs)\n",
      "Agents Mean Score in Episode 050: 36.58, \tAgents Mean Score over last 100 episodes: 16.90 (time per eps:63.9 secs)\n",
      "Agents Mean Score in Episode 055: 38.22, \tAgents Mean Score over last 100 episodes: 18.76 (time per eps:63.1 secs)\n",
      "Agents Mean Score in Episode 060: 38.27, \tAgents Mean Score over last 100 episodes: 20.35 (time per eps:63.4 secs)\n",
      "Agents Mean Score in Episode 065: 38.45, \tAgents Mean Score over last 100 episodes: 21.72 (time per eps:63.6 secs)\n",
      "Agents Mean Score in Episode 070: 38.57, \tAgents Mean Score over last 100 episodes: 22.91 (time per eps:63.0 secs)\n",
      "Agents Mean Score in Episode 075: 37.82, \tAgents Mean Score over last 100 episodes: 23.95 (time per eps:63.6 secs)\n",
      "Agents Mean Score in Episode 080: 38.41, \tAgents Mean Score over last 100 episodes: 24.85 (time per eps:63.1 secs)\n",
      "Agents Mean Score in Episode 085: 37.18, \tAgents Mean Score over last 100 episodes: 25.58 (time per eps:62.9 secs)\n",
      "Agents Mean Score in Episode 090: 38.04, \tAgents Mean Score over last 100 episodes: 26.24 (time per eps:63.5 secs)\n",
      "Agents Mean Score in Episode 095: 38.61, \tAgents Mean Score over last 100 episodes: 26.87 (time per eps:62.7 secs)\n",
      "Agents Mean Score in Episode 100: 37.41, \tAgents Mean Score over last 100 episodes: 27.42 (time per eps:63.0 secs)\n",
      "Agents Mean Score in Episode 105: 37.18, \tAgents Mean Score over last 100 episodes: 29.29 (time per eps:63.2 secs)\n",
      "\n",
      "Environment solved in 107 episodes!\tAverage Score: 30.02"
     ]
    }
   ],
   "source": [
    "def ddpg(n_episodes=300, max_t=1000, print_every=5, success_criteria_count=100):\n",
    "    scores_deque = deque(maxlen=success_criteria_count)\n",
    "    scores = []\n",
    "    agent_mean_scores = []\n",
    "    agent_mean_scores_100eps = []\n",
    "\n",
    "    for i_episode in range(1, n_episodes+1):    \n",
    "        start_t = time.time()\n",
    "        env_info = env.reset(train_mode=True)[brain_name]\n",
    "        state = env_info.vector_observations\n",
    "        agent.reset()\n",
    "        score = np.zeros((num_agents,))   \n",
    "        for t in range(max_t):\n",
    "            action = agent.act(state)\n",
    "            env_info = env.step(action)[brain_name]   \n",
    "            next_state = env_info.vector_observations         \n",
    "            reward = env_info.rewards                         \n",
    "            done = env_info.local_done                \n",
    "            agent.step(state, action, reward, next_state, done, t)\n",
    "            state = next_state\n",
    "            score += reward\n",
    "            if np.any(done):\n",
    "                break \n",
    "            \n",
    "        scores_deque.append(score)\n",
    "        scores.append(score)\n",
    "        agent_mean_scores.append(np.mean(score))\n",
    "        agent_mean_scores_100eps.append(np.mean(scores_deque))\n",
    "\n",
    "        end_t = time.time()\n",
    "               \n",
    "        if np.mean(scores_deque)>=30:\n",
    "            print('\\nEnvironment solved in {:d} episodes!\\tAverage Score: {:.2f}'.format(i_episode, np.mean(scores_deque)), end=\"\")\n",
    "            torch.save(agent.actor_local.state_dict(), 'checkpoint_actor_ddpg.pth')\n",
    "            torch.save(agent.critic_local.state_dict(), 'checkpoint_critic_ddpg.pth')\n",
    "            break\n",
    "        if i_episode % print_every == 0:\n",
    "            print('\\rAgents Mean Score in Episode {:03d}: {:.2f}, \\tAgents Mean Score over last 100 episodes: {:.2f} (time per eps:{:.1f} secs)'.format(i_episode,np.mean(score), np.mean(scores_deque), end_t - start_t), end=\"\\n\")\n",
    "    return scores, agent_mean_scores, agent_mean_scores_100eps\n",
    "\n",
    "scores, agent_mean_scores, agent_mean_scores_100eps = ddpg()\n"
   ]
  },
  {
   "cell_type": "code",
   "execution_count": 9,
   "metadata": {},
   "outputs": [],
   "source": [
    "import pickle \n",
    "filehandler = open('score.pi', 'wb') \n",
    "score_dict = {\"scores\":scores, \"agent_mean_scores\": agent_mean_scores, \"agent_mean_scores_100eps\":agent_mean_scores_100eps}\n",
    "pickle.dump(score_dict, filehandler)\n",
    "filehandler.close()"
   ]
  },
  {
   "cell_type": "markdown",
   "metadata": {},
   "source": [
    "### Plot the scores."
   ]
  },
  {
   "cell_type": "code",
   "execution_count": 6,
   "metadata": {},
   "outputs": [
    {
     "data": {
      "image/png": "[encoded data removed]",
      "text/plain": [
       "<Figure size 432x288 with 1 Axes>"
      ]
     },
     "metadata": {
      "needs_background": "light"
     },
     "output_type": "display_data"
    },
    {
     "data": {
      "image/png": "[encoded data removed]",
      "text/plain": [
       "<Figure size 432x288 with 1 Axes>"
      ]
     },
     "metadata": {
      "needs_background": "light"
     },
     "output_type": "display_data"
    }
   ],
   "source": [
    "# plot the scores of every agent\n",
    "fig = plt.figure()\n",
    "ax = fig.add_subplot(111)\n",
    "plt.plot(np.arange(1, len(scores)+1), scores)\n",
    "plt.ylabel('Score')\n",
    "plt.xlabel('Episode #')\n",
    "plt.show()\n",
    "\n",
    "# plot the average scores\n",
    "fig = plt.figure()\n",
    "ax = fig.add_subplot(111)\n",
    "plt.plot(np.arange(len(scores)), agent_mean_scores, label='Average Score of Each Episode')\n",
    "plt.plot(np.arange(len(scores)), agent_mean_scores_100eps, c='r', label='Average Score over 100 Episodes')\n",
    "plt.ylabel('Score')\n",
    "plt.xlabel('Episode #')\n",
    "plt.legend(loc='lower right')\n",
    "plt.show()"
   ]
  },
  {
   "cell_type": "markdown",
   "metadata": {},
   "source": [
    "The problem is solved with just more than 100 episode. From the charts, it can be seen that the average agent score has become stable, around  38, after about 60 epsisodes."
   ]
  },
  {
   "cell_type": "code",
   "execution_count": 7,
   "metadata": {},
   "outputs": [],
   "source": [
    "torch.save(agent.actor_local.state_dict(), 'checkpoint_actor_ddpg.pth')"
   ]
  },
  {
   "cell_type": "markdown",
   "metadata": {},
   "source": [
    "### Seeing the trained agent in action"
   ]
  },
  {
   "cell_type": "code",
   "execution_count": 10,
   "metadata": {},
   "outputs": [
    {
     "name": "stdout",
     "output_type": "stream",
     "text": [
      "Total number of timesteps: 1001\n",
      "Total score (averaged over agents) this episode: 37.834499154333024\n"
     ]
    }
   ],
   "source": [
    "agent.actor_local.load_state_dict(torch.load('checkpoint_actor_ddpg.pth'))\n",
    "env_info = env.reset(train_mode=False)[brain_name]     # reset the environment    \n",
    "states = env_info.vector_observations                  # get the current state (for each agent)\n",
    "scores = np.zeros(num_agents)                          # initialize the score (for each agent)\n",
    "i = 0\n",
    "while True:\n",
    "    i+=1\n",
    "    actions = agent.act(states)\n",
    "    env_info = env.step(actions)[brain_name]           # send all actions to tne environment\n",
    "    next_states = env_info.vector_observations         # get next state (for each agent)\n",
    "    rewards = env_info.rewards                         # get reward (for each agent)\n",
    "    dones = env_info.local_done                        # see if episode finished\n",
    "    scores += env_info.rewards                         # update the score (for each agent)\n",
    "    states = next_states                               # roll over states to next time step\n",
    "    if np.any(dones):                                  # exit loop if episode finished\n",
    "        print('Total number of timesteps: {:d}'.format(i))\n",
    "        break\n",
    "print('Total score (averaged over agents) this episode: {}'.format(np.mean(scores)))"
   ]
  },
  {
   "cell_type": "markdown",
   "metadata": {},
   "source": [
    "### Close the environment."
   ]
  },
  {
   "cell_type": "code",
   "execution_count": 45,
   "metadata": {},
   "outputs": [],
   "source": [
    "env.reset()\n",
    "env.close()"
   ]
  },
  {
   "cell_type": "markdown",
   "metadata": {},
   "source": [
    "## Future Improvements\n",
    "During the course of solving this problem, I found the performance of DDPG to be highly sensitive to the following parameters:\n",
    "- The learning rates\n",
    "- Node counts in both the Actor and the Critic network\n",
    "- The learning frequency and the number of repetitive updates per draw of experiences.\n",
    "\n",
    "It is quite complex trying to optimise with so many parameters. I have presented the combination that I found to be the most efficient, which includes replacing the ReLU activation with Leaky ReLU.\n",
    "\n",
    "However, I think the following are unexplored possibilities for imrpovement:\n",
    "- Increase the number of layers in the Actor and Critic networks\n",
    "- Use smaller or larger volaitlies in the OU Noise add-on\n",
    "\n",
    "Last but not least, we can try other learning methods covered in the lessions, including but not limited to PPO, A3C/A2C and GAE"
   ]
  },
  {
   "cell_type": "markdown",
   "metadata": {},
   "source": []
  }
 ],
 "metadata": {
  "kernelspec": {
   "display_name": "Python 3",
   "language": "python",
   "name": "python3"
  },
  "language_info": {
   "codemirror_mode": {
    "name": "ipython",
    "version": 3
   },
   "file_extension": ".py",
   "mimetype": "text/x-python",
   "name": "python",
   "nbconvert_exporter": "python",
   "pygments_lexer": "ipython3",
   "version": "3.6.13"
  }
 },
 "nbformat": 4,
 "nbformat_minor": 2
}
