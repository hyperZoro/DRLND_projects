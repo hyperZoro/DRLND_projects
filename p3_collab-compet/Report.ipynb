{
 "cells": [
  {
   "cell_type": "markdown",
   "metadata": {},
   "source": [
    "# Collaboration and Competition\n",
    "\n",
    "---\n",
    "\n",
    "In this notebook, I present my MADDPG based solution to the third project, Collaboration and Competition, of the [Deep Reinforcement Learning Nanodegree](https://www.udacity.com/course/deep-reinforcement-learning-nanodegree--nd893) program.\n",
    "\n",
    "\n",
    "\n",
    "## About the enviroment and the agent\n",
    "The goal of the project is to train two agents to control two rackets to play tennis, i.e. rally the ball over the net. \n",
    "\n",
    "### The reward dynamic and the goal of the agent\n",
    "If an agent hits the ball over the net, it receives a reward of +0.1. If an agent lets a ball hit the ground or hits the ball out of bounds, it receives a reward of -0.01. Thus, the goal of each agent is to keep the ball in play.\n",
    "\n",
    "### State space\n",
    "The observation space consists of 8 variables corresponding to the position and velocity of the ball and racket. Each variable is represented as a vector of 3 valuess. Therefore, the state received by each agent is described by the 1-D vector of 24 values.\n",
    "```\n",
    "Vector Observation space type: continuous\n",
    "Vector Observation space size (per agent): 8\n",
    "Number of stacked Vector Observation: 3\n",
    "```\n",
    "\n",
    "### Action space\n",
    "Two continuous actions are available for each racket, corresponding to movement toward (or away from) the net, and jumping. The action values should be between -1 and +1, represented by a vector of 2 values.\n",
    "\n",
    "### Termination of the episode\n",
    "The task is episodic. When the episode is terminated (when the ball drops or hit the net), the accumuated score is counted for each agent, and the max score between the two agent is reported as the final score. Note that the episode can go on and on if the agents are so good at it. In training, I have limited each episode to 1000 time steps.\n",
    "\n",
    "### Success criteria\n",
    "The agents must get an average score of +0.5 (over 100 consecutive episodes, after taking the maximum over both agents).\n",
    "\n",
    "## The agent (the learning algorithm)\n",
    "_maddpg_agent.py_ defines the Agent, it learns with the Multi-Agent Deep Deterministic Policy Gradient (MADDPG) method, with Experience Replay and delayed Target Network soft-update techniques.\n",
    "\n",
    "### About MADDPG\n",
    "This implementation uses the MADDPG method. The MADDPG is and extension to DDPG, which is capable of handling continuous action spaces and now extended to control multiple agents in collaboration and/or competition environments. The picture below shows the Actor Critic structure of MADDPG\n",
    "![](https://github.com/hyperZoro/DRLND_projects/blob/main/p3_collab-compet/pic/maddpg.png)\n",
    "What is important is that while the Actors are decentralised, i.e. they only act based on observations available to them, the Critics are centralised, i.e. they are able to predict rewards with information not only available to them, but also those for other agents, as well as the actions that the other agents are taking. The centralised Critics are the key to MADDPG's ability in working with both collaboration and competition enviroments.\n",
    "\n",
    "### About Experience Replay\n",
    "In Deep Q-Learning, Experience Replay is commonly used to break the correlation between consequent states and actions. It is about caching past experiences (action, reward and next state sets), and then sampling them randomly to feed the learning algorithm. In this particular implementation, the experiences from both the agents are stored in pairs. And latter in training, the action and state records are concatenated and fed into the backpropagation for training the Critics.\n",
    "\n",
    "### About Delayed Target Network\n",
    "In Deep Q-Learning, Double Q-Network techniques are commonly used, where the target network is updated with delay to stablise Q value estimation. A soft update algorithm is used, where the target network weights are updated with a weighted average of the local network weights and the old target network weights.\n",
    "\n",
    "### Loss function and optimisation\n",
    "The Huber loss is used in conjunction with the Adam optimiser.\n",
    "\n",
    "### Noise add-on\n",
    "An stochastic zero mean mean reverting random variable (OU Noise) is added to the policy generated actions to exploit un-explored territories (then clipped to between -1 and +1).\n",
    "\n",
    "### Implementation\n",
    "_maddpg_agent.py_ bases on _ddpg_agent.py_ from Project 2, and is extended to allow multiple child DDPG agents. The ReplayBuffer class is modified to accommodate data format to store dependent agent experiences, in this case pairs. The _learn()_ method concatenates pairs to feed the Critics accordingly.\n",
    "\n",
    "## About the models (the neural networks)\n",
    "_ddpg_model.py_ is written in PyTorch, it defines the Neural Networks. There are 2 different networks - one for the Actor and the other for the Critic. The structure is completely identical to the model from Project 2.\n",
    "\n",
    "The Actor network is a deep network using 2 fully connected hidden layers (64 nodes each by default, but configurable through parameters _fc1_units_ and _fc2_units_ at initialisation stage) with ELU activations. The input is the enviroment state (in this case a 1D-vector of size 24), while the output is the action (in this case a sized 2 1D-vector of continuous values), with a tanh transform function.\n",
    "\n",
    "The Critic network is a deep network using 2 fully connected hidden layers. The input is the enviroment state from both agents(Here it is a 1D-vector of size 2 x 24 = 48. I have noticed there are replicated information in the state vector for each agent, i.e. some values are equal or flip-signed, but they are all fed to avoid any over interpretation). The first hidden layer is of size defined by fcs1_units+4 (fcs1_units defaults to 64), because the Network also take the actions from both agents as input. The second layer is of size defined by fc2_units (defaults to 64). Both layers have ELU activation. The final outcome is a scalar (dimension 1), without any transformation. This represents the Q value corresponding to the continuous actions.\n",
    "\n",
    "## Hyperparameters\n",
    "The following are the hyperparameters used\n",
    "\n",
    "  |Hyperparameters|Definition|\n",
    "  |---------------|------------------------------------------------|\n",
    "  | _BUFFER_SIZE_ | defines the replay buffer size, default to 1e5 |\n",
    "  |_BATCH_SIZE_ |defines minibatch size in learning, defaults to 64|\n",
    "  | _GAMMA_ |defines the discount factor in expected reward calculation, defauls to 0.99|\n",
    "  |_TAU_ |defines the weights for soft update of target parameters, defaults to 1e-3|\n",
    "  |_LR_ACTOR_| defines learning rate of the actor, defaults to 2e-4|\n",
    "  |_LR_CRITIC_| defines learning rate of the critic, defaults to 3e-4|\n",
    "  |_WEIGHT_DECAY_| defines L2 weight decay, defaults to 0|\n",
    "  |_LEARN_FREQ_| defines the frequency of learning, defaults to 1|\n",
    "  |_LEARN_NUM_ |defines the number of times learning is repeated per experience sample set, defaults to 1|\n",
    "\n",
    "### Saving the trained models\n",
    "The trained parameters are saved in 4 _.pth_ files, they store trained model parameters that are obtained in one of the training attempts. This particular set in GitHub repo is the first ever success and actually converged quite fast.\n"
   ]
  },
  {
   "cell_type": "markdown",
   "metadata": {},
   "source": [
    "## Run the Training Code Below Step by Step\n",
    "### Start the Environment\n",
    "\n",
    "We begin by importing the necessary packages and settting the path of the Unity Environment"
   ]
  },
  {
   "cell_type": "code",
   "execution_count": 1,
   "metadata": {},
   "outputs": [
    {
     "name": "stderr",
     "output_type": "stream",
     "text": [
      "INFO:unityagents:\n",
      "'Academy' started successfully!\n",
      "Unity Academy name: Academy\n",
      "        Number of Brains: 1\n",
      "        Number of External Brains : 1\n",
      "        Lesson number : 0\n",
      "        Reset Parameters :\n",
      "\t\t\n",
      "Unity brain name: TennisBrain\n",
      "        Number of Visual Observations (per agent): 0\n",
      "        Vector Observation space type: continuous\n",
      "        Vector Observation space size (per agent): 8\n",
      "        Number of stacked Vector Observation: 3\n",
      "        Vector Action space type: continuous\n",
      "        Vector Action space size (per agent): 2\n",
      "        Vector Action descriptions: , \n"
     ]
    }
   ],
   "source": [
    "from unityagents import UnityEnvironment\n",
    "import numpy as np\n",
    "\n",
    "env = UnityEnvironment(file_name=r\".\\Tennis_Windows_x86_64\\Tennis.exe\")"
   ]
  },
  {
   "cell_type": "markdown",
   "metadata": {},
   "source": [
    "### set the environment brain"
   ]
  },
  {
   "cell_type": "code",
   "execution_count": 2,
   "metadata": {},
   "outputs": [],
   "source": [
    "# get the default brain\n",
    "brain_name = env.brain_names[0]\n",
    "brain = env.brains[brain_name]"
   ]
  },
  {
   "cell_type": "markdown",
   "metadata": {},
   "source": [
    "### Examine the State and Action Spaces\n"
   ]
  },
  {
   "cell_type": "code",
   "execution_count": 3,
   "metadata": {},
   "outputs": [
    {
     "name": "stdout",
     "output_type": "stream",
     "text": [
      "Number of agents: 2\n",
      "Size of each action: 2\n",
      "There are 2 agents. Each observes a state with length: 24\n",
      "The state for the first agent looks like: [ 0.          0.          0.          0.          0.          0.\n",
      "  0.          0.          0.          0.          0.          0.\n",
      "  0.          0.          0.          0.         -6.65278625 -1.5\n",
      " -0.          0.          6.83172083  6.         -0.          0.        ]\n"
     ]
    }
   ],
   "source": [
    "# reset the environment\n",
    "env_info = env.reset(train_mode=True)[brain_name]\n",
    "\n",
    "# number of agents \n",
    "num_agents = len(env_info.agents)\n",
    "print('Number of agents:', num_agents)\n",
    "\n",
    "# size of each action\n",
    "action_size = brain.vector_action_space_size\n",
    "print('Size of each action:', action_size)\n",
    "\n",
    "# examine the state space \n",
    "states = env_info.vector_observations\n",
    "state_size = states.shape[1]\n",
    "print('There are {} agents. Each observes a state with length: {}'.format(states.shape[0], state_size))\n",
    "print('The state for the first agent looks like:', states[0])"
   ]
  },
  {
   "cell_type": "markdown",
   "metadata": {},
   "source": [
    "### Training the agents\n",
    "\n"
   ]
  },
  {
   "cell_type": "code",
   "execution_count": 4,
   "metadata": {},
   "outputs": [
    {
     "name": "stdout",
     "output_type": "stream",
     "text": [
      "Device used:  cpu\n"
     ]
    }
   ],
   "source": [
    "from collections import deque\n",
    "import matplotlib.pyplot as plt\n",
    "from maddpg_agent import MADDPGAgent\n",
    "import torch\n",
    "import time\n",
    "\n",
    "%matplotlib inline\n",
    "\n",
    "agent = MADDPGAgent(state_size, action_size, random_seed=1)"
   ]
  },
  {
   "cell_type": "code",
   "execution_count": 5,
   "metadata": {
    "scrolled": false
   },
   "outputs": [
    {
     "name": "stdout",
     "output_type": "stream",
     "text": [
      "Episode 100:\tAgents Mean Score over last 100 episodes: 0.00000 (time per eps:0.3 secs)\n",
      "Episode 200:\tAgents Mean Score over last 100 episodes: 0.00000 (time per eps:0.3 secs)\n",
      "Episode 300:\tAgents Mean Score over last 100 episodes: 0.00000 (time per eps:0.3 secs)\n",
      "Episode 400:\tAgents Mean Score over last 100 episodes: 0.00100 (time per eps:0.3 secs)\n",
      "Episode 500:\tAgents Mean Score over last 100 episodes: 0.00090 (time per eps:0.3 secs)\n",
      "Episode 600:\tAgents Mean Score over last 100 episodes: 0.00000 (time per eps:0.3 secs)\n",
      "Episode 700:\tAgents Mean Score over last 100 episodes: 0.00100 (time per eps:0.3 secs)\n",
      "Episode 800:\tAgents Mean Score over last 100 episodes: 0.01090 (time per eps:0.3 secs)\n",
      "Episode 900:\tAgents Mean Score over last 100 episodes: 0.01090 (time per eps:0.5 secs)\n",
      "Episode 1000:\tAgents Mean Score over last 100 episodes: 0.00480 (time per eps:0.3 secs)\n",
      "Episode 1100:\tAgents Mean Score over last 100 episodes: 0.02130 (time per eps:0.3 secs)\n",
      "Episode 1200:\tAgents Mean Score over last 100 episodes: 0.01480 (time per eps:1.0 secs)\n",
      "Episode 1300:\tAgents Mean Score over last 100 episodes: 0.01160 (time per eps:0.2 secs)\n",
      "Episode 1400:\tAgents Mean Score over last 100 episodes: 0.03230 (time per eps:0.6 secs)\n",
      "Episode 1500:\tAgents Mean Score over last 100 episodes: 0.02540 (time per eps:0.6 secs)\n",
      "Episode 1600:\tAgents Mean Score over last 100 episodes: 0.04530 (time per eps:0.3 secs)\n",
      "Episode 1700:\tAgents Mean Score over last 100 episodes: 0.05620 (time per eps:0.6 secs)\n",
      "Episode 1800:\tAgents Mean Score over last 100 episodes: 0.08860 (time per eps:0.6 secs)\n",
      "Episode 1900:\tAgents Mean Score over last 100 episodes: 0.10210 (time per eps:0.6 secs)\n",
      "Episode 2000:\tAgents Mean Score over last 100 episodes: 0.12660 (time per eps:1.3 secs)\n",
      "Episode 2100:\tAgents Mean Score over last 100 episodes: 0.13480 (time per eps:0.6 secs)\n",
      "Episode 2200:\tAgents Mean Score over last 100 episodes: 0.10900 (time per eps:0.6 secs)\n",
      "Episode 2300:\tAgents Mean Score over last 100 episodes: 0.17470 (time per eps:9.9 secs)\n",
      "Episode 2400:\tAgents Mean Score over last 100 episodes: 0.35300 (time per eps:6.8 secs)\n",
      "\n",
      "Environment solved in 2450 episodes!\tAverage Score: 0.50210"
     ]
    }
   ],
   "source": [
    "def maddpg(n_episodes=3000, max_t=1000, print_every=100, success_criteria_count=100):\n",
    "    scores_deque = deque(maxlen=success_criteria_count)\n",
    "    scores = []\n",
    "    agent_scores = []\n",
    "    agent_mean_scores_100eps = []\n",
    "\n",
    "    for i_episode in range(1, n_episodes+1):    \n",
    "        start_t = time.time()\n",
    "        env_info = env.reset(train_mode=True)[brain_name]\n",
    "        state = env_info.vector_observations\n",
    "        agent.reset()\n",
    "        score = np.zeros((num_agents,))   \n",
    "        for t in range(max_t):\n",
    "            action = agent.act(state)\n",
    "            env_info = env.step(action)[brain_name]   \n",
    "            next_state = env_info.vector_observations         \n",
    "            reward = env_info.rewards                         \n",
    "            done = env_info.local_done                \n",
    "            agent.step(state, action, reward, next_state, done, t)\n",
    "            state = next_state\n",
    "            score += reward\n",
    "            if np.any(done):\n",
    "                break \n",
    "            \n",
    "        scores_deque.append(np.max(score))\n",
    "        scores.append(score)\n",
    "        agent_scores.append(np.max(score))\n",
    "        agent_mean_scores_100eps.append(np.mean(scores_deque))\n",
    "\n",
    "        end_t = time.time()\n",
    "               \n",
    "        if agent_mean_scores_100eps[-1]>=0.5:\n",
    "            print('\\nEnvironment solved in {:d} episodes!\\tAverage Score: {:.5f}'.format(i_episode, agent_mean_scores_100eps[-1]), end=\"\")\n",
    "            torch.save(agent.maddpg_agent[0].actor_local.state_dict(), 'checkpoint_actor_1_maddpg.pth')\n",
    "            torch.save(agent.maddpg_agent[0].critic_local.state_dict(), 'checkpoint_critic_1_maddpg.pth')\n",
    "            torch.save(agent.maddpg_agent[1].actor_local.state_dict(), 'checkpoint_actor_2_maddpg.pth')\n",
    "            torch.save(agent.maddpg_agent[1].critic_local.state_dict(), 'checkpoint_critic_2_maddpg.pth')\n",
    "            break\n",
    "        if i_episode % print_every == 0:\n",
    "            print('Episode {:03d}:\\tAgents Mean Score over last 100 episodes: {:.5f} (time per eps:{:.1f} secs)'.format(i_episode, agent_mean_scores_100eps[-1], end_t - start_t), end=\"\\n\")\n",
    "    return scores, agent_scores, agent_mean_scores_100eps\n",
    "\n",
    "scores, agent_scores, agent_mean_scores_100eps = maddpg()\n"
   ]
  },
  {
   "cell_type": "markdown",
   "metadata": {},
   "source": [
    "Above is progress summary for one of the successful attempts. It is solved in 2450 episodes. But sometimes it can be solved with about 1500 episode. Once the agent gets rather good it start to take a much longer time to get through each episode."
   ]
  },
  {
   "cell_type": "code",
   "execution_count": 8,
   "metadata": {},
   "outputs": [
    {
     "data": {
      "image/png": "[encoded data removed]",
      "text/plain": [
       "<Figure size 432x288 with 1 Axes>"
      ]
     },
     "metadata": {
      "needs_background": "light"
     },
     "output_type": "display_data"
    },
    {
     "data": {
      "image/png": "[encoded data removed]",
      "text/plain": [
       "<Figure size 432x288 with 1 Axes>"
      ]
     },
     "metadata": {
      "needs_background": "light"
     },
     "output_type": "display_data"
    }
   ],
   "source": [
    "# plot the scores of every agent\n",
    "fig = plt.figure()\n",
    "ax = fig.add_subplot(111)\n",
    "plt.plot(np.arange(1, len(scores)+1), scores)\n",
    "plt.ylabel('Score')\n",
    "plt.xlabel('Episode #')\n",
    "plt.show()\n",
    "\n",
    "# plot the average scores\n",
    "fig = plt.figure()\n",
    "ax = fig.add_subplot(111)\n",
    "plt.plot(np.arange(len(scores)), agent_scores, label='Score of Each Episode')\n",
    "plt.plot(np.arange(len(scores)), agent_mean_scores_100eps, c='r', label='Average Score over 100 Episodes')\n",
    "plt.ylabel('Score')\n",
    "plt.xlabel('Episode #')\n",
    "plt.legend()\n",
    "plt.show()"
   ]
  },
  {
   "cell_type": "markdown",
   "metadata": {},
   "source": [
    "### See a Trained Agent in Action\n",
    "It loads up the stored parameters and runs 6 episodes."
   ]
  },
  {
   "cell_type": "code",
   "execution_count": 10,
   "metadata": {},
   "outputs": [
    {
     "name": "stdout",
     "output_type": "stream",
     "text": [
      "Score (max over agents) from episode 1: 0.10000000149011612\n",
      "Score (max over agents) from episode 2: 0.20000000298023224\n",
      "Score (max over agents) from episode 3: 2.600000038743019\n",
      "Score (max over agents) from episode 4: 1.0000000149011612\n",
      "Score (max over agents) from episode 5: 2.0000000298023224\n"
     ]
    }
   ],
   "source": [
    "agent.maddpg_agent[0].actor_local.load_state_dict(torch.load('checkpoint_actor_1_maddpg.pth'))\n",
    "agent.maddpg_agent[1].actor_local.load_state_dict(torch.load('checkpoint_actor_2_maddpg.pth'))\n",
    "\n",
    "for i in range(1, 6):                                      # play game for 5 episodes\n",
    "    env_info = env.reset(train_mode=False)[brain_name]     # reset the environment    \n",
    "    states = env_info.vector_observations                  # get the current state (for each agent)\n",
    "    scores = np.zeros(num_agents)                          # initialize the score (for each agent)\n",
    "    while True:\n",
    "        actions = agent.act(states) # select an action (for each agent)\n",
    "        #actions = np.clip(actions, -1, 1)                  # all actions between -1 and 1\n",
    "        env_info = env.step(actions)[brain_name]           # send all actions to tne environment\n",
    "        next_states = env_info.vector_observations         # get next state (for each agent)\n",
    "        rewards = env_info.rewards                         # get reward (for each agent)\n",
    "        dones = env_info.local_done                        # see if episode finished\n",
    "        scores += env_info.rewards                         # update the score (for each agent)\n",
    "        states = next_states                               # roll over states to next time step\n",
    "        if np.any(dones):                                  # exit loop if episode finished\n",
    "            break\n",
    "    print('Score (max over agents) from episode {}: {}'.format(i, np.max(scores)))"
   ]
  },
  {
   "cell_type": "markdown",
   "metadata": {},
   "source": [
    "### When finished, you can close the environment."
   ]
  },
  {
   "cell_type": "code",
   "execution_count": 11,
   "metadata": {},
   "outputs": [],
   "source": [
    "env.reset()\n",
    "env.close()"
   ]
  },
  {
   "cell_type": "markdown",
   "metadata": {},
   "source": [
    "## Future Improvement\n",
    "\n",
    "I found the training process to be rather instable. I have tried various combination of the following\n",
    "- SGD and Adam optimisers\n",
    "- Huber and MSE loss\n",
    "- Various learning rates\n",
    "- Various neural network dimensions\n",
    "I have observed sometimes the agent does not improve through training, sometimes one of the racket is stuck while the other is winning every game, etc. So there seem to be many opportunities for improvement by further tweaking these parameters."
   ]
  },
  {
   "cell_type": "markdown",
   "metadata": {},
   "source": []
  }
 ],
 "metadata": {
  "kernelspec": {
   "display_name": "Python 3",
   "language": "python",
   "name": "python3"
  },
  "language_info": {
   "codemirror_mode": {
    "name": "ipython",
    "version": 3
   },
   "file_extension": ".py",
   "mimetype": "text/x-python",
   "name": "python",
   "nbconvert_exporter": "python",
   "pygments_lexer": "ipython3",
   "version": "3.6.13"
  }
 },
 "nbformat": 4,
 "nbformat_minor": 2
}
